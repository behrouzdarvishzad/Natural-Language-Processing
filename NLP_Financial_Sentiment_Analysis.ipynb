{
  "nbformat": 4,
  "nbformat_minor": 0,
  "metadata": {
    "colab": {
      "provenance": []
    },
    "kernelspec": {
      "name": "python3",
      "display_name": "Python 3"
    },
    "language_info": {
      "name": "python"
    }
  },
  "cells": [
    {
      "cell_type": "markdown",
      "source": [
        "### Introduction:\n",
        "\n",
        "The dataset available at the following link, \"https://www.kaggle.com/datasets/sbhatti/financial-sentiment-analysis,\" provides a valuable resource for conducting research and advancing financial sentiment analysis. This dataset combines two datasets, FiQA and Financial PhraseBank, into a single CSV file, making it easy to use and analyze. The dataset consists of financial sentences accompanied by sentiment labels, enabling researchers to explore and analyze the sentiment expressed in financial texts.\n",
        "\n",
        "By conducting sentiment analysis on financial data, we can uncover valuable insights into market sentiments, investor sentiment, and public perception of financial events, companies, and economic indicators. This can have significant implications for various stakeholders in the financial industry, including investors, financial analysts, fund managers, and policymakers.\n",
        "\n",
        "Through this analysis, we aim to contribute to the field of financial sentiment analysis by exploring the relationships between language, sentiment, and financial market dynamics. By understanding and quantifying the sentiment expressed in financial texts, we can enhance decision-making processes, risk assessment models, and market forecasting methodologies."
      ],
      "metadata": {
        "id": "tCNG4DdaoORB"
      }
    },
    {
      "cell_type": "code",
      "source": [
        "import pandas as pd\n",
        "\n",
        "# Read the CSV file and create a DataFrame\n",
        "df = pd.read_csv('/content/data.csv')\n",
        "\n",
        "# Display the first few rows of the DataFrame\n",
        "df.head()\n"
      ],
      "metadata": {
        "colab": {
          "base_uri": "https://localhost:8080/",
          "height": 206
        },
        "id": "Xm26K0uGoy-g",
        "outputId": "5d903c21-dff3-4be2-d0b6-1fc72c2c187c"
      },
      "execution_count": 3,
      "outputs": [
        {
          "output_type": "execute_result",
          "data": {
            "text/plain": [
              "                                            Sentence Sentiment\n",
              "0  The GeoSolutions technology will leverage Bene...  positive\n",
              "1  $ESI on lows, down $1.50 to $2.50 BK a real po...  negative\n",
              "2  For the last quarter of 2010 , Componenta 's n...  positive\n",
              "3  According to the Finnish-Russian Chamber of Co...   neutral\n",
              "4  The Swedish buyout firm has sold its remaining...   neutral"
            ],
            "text/html": [
              "\n",
              "\n",
              "  <div id=\"df-f040738b-94ff-48e4-9bf9-d967b502eb83\">\n",
              "    <div class=\"colab-df-container\">\n",
              "      <div>\n",
              "<style scoped>\n",
              "    .dataframe tbody tr th:only-of-type {\n",
              "        vertical-align: middle;\n",
              "    }\n",
              "\n",
              "    .dataframe tbody tr th {\n",
              "        vertical-align: top;\n",
              "    }\n",
              "\n",
              "    .dataframe thead th {\n",
              "        text-align: right;\n",
              "    }\n",
              "</style>\n",
              "<table border=\"1\" class=\"dataframe\">\n",
              "  <thead>\n",
              "    <tr style=\"text-align: right;\">\n",
              "      <th></th>\n",
              "      <th>Sentence</th>\n",
              "      <th>Sentiment</th>\n",
              "    </tr>\n",
              "  </thead>\n",
              "  <tbody>\n",
              "    <tr>\n",
              "      <th>0</th>\n",
              "      <td>The GeoSolutions technology will leverage Bene...</td>\n",
              "      <td>positive</td>\n",
              "    </tr>\n",
              "    <tr>\n",
              "      <th>1</th>\n",
              "      <td>$ESI on lows, down $1.50 to $2.50 BK a real po...</td>\n",
              "      <td>negative</td>\n",
              "    </tr>\n",
              "    <tr>\n",
              "      <th>2</th>\n",
              "      <td>For the last quarter of 2010 , Componenta 's n...</td>\n",
              "      <td>positive</td>\n",
              "    </tr>\n",
              "    <tr>\n",
              "      <th>3</th>\n",
              "      <td>According to the Finnish-Russian Chamber of Co...</td>\n",
              "      <td>neutral</td>\n",
              "    </tr>\n",
              "    <tr>\n",
              "      <th>4</th>\n",
              "      <td>The Swedish buyout firm has sold its remaining...</td>\n",
              "      <td>neutral</td>\n",
              "    </tr>\n",
              "  </tbody>\n",
              "</table>\n",
              "</div>\n",
              "      <button class=\"colab-df-convert\" onclick=\"convertToInteractive('df-f040738b-94ff-48e4-9bf9-d967b502eb83')\"\n",
              "              title=\"Convert this dataframe to an interactive table.\"\n",
              "              style=\"display:none;\">\n",
              "\n",
              "  <svg xmlns=\"http://www.w3.org/2000/svg\" height=\"24px\"viewBox=\"0 0 24 24\"\n",
              "       width=\"24px\">\n",
              "    <path d=\"M0 0h24v24H0V0z\" fill=\"none\"/>\n",
              "    <path d=\"M18.56 5.44l.94 2.06.94-2.06 2.06-.94-2.06-.94-.94-2.06-.94 2.06-2.06.94zm-11 1L8.5 8.5l.94-2.06 2.06-.94-2.06-.94L8.5 2.5l-.94 2.06-2.06.94zm10 10l.94 2.06.94-2.06 2.06-.94-2.06-.94-.94-2.06-.94 2.06-2.06.94z\"/><path d=\"M17.41 7.96l-1.37-1.37c-.4-.4-.92-.59-1.43-.59-.52 0-1.04.2-1.43.59L10.3 9.45l-7.72 7.72c-.78.78-.78 2.05 0 2.83L4 21.41c.39.39.9.59 1.41.59.51 0 1.02-.2 1.41-.59l7.78-7.78 2.81-2.81c.8-.78.8-2.07 0-2.86zM5.41 20L4 18.59l7.72-7.72 1.47 1.35L5.41 20z\"/>\n",
              "  </svg>\n",
              "      </button>\n",
              "\n",
              "\n",
              "\n",
              "    <div id=\"df-95b73be6-59cf-44c2-8114-776e642373e5\">\n",
              "      <button class=\"colab-df-quickchart\" onclick=\"quickchart('df-95b73be6-59cf-44c2-8114-776e642373e5')\"\n",
              "              title=\"Suggest charts.\"\n",
              "              style=\"display:none;\">\n",
              "\n",
              "<svg xmlns=\"http://www.w3.org/2000/svg\" height=\"24px\"viewBox=\"0 0 24 24\"\n",
              "     width=\"24px\">\n",
              "    <g>\n",
              "        <path d=\"M19 3H5c-1.1 0-2 .9-2 2v14c0 1.1.9 2 2 2h14c1.1 0 2-.9 2-2V5c0-1.1-.9-2-2-2zM9 17H7v-7h2v7zm4 0h-2V7h2v10zm4 0h-2v-4h2v4z\"/>\n",
              "    </g>\n",
              "</svg>\n",
              "      </button>\n",
              "    </div>\n",
              "\n",
              "<style>\n",
              "  .colab-df-quickchart {\n",
              "    background-color: #E8F0FE;\n",
              "    border: none;\n",
              "    border-radius: 50%;\n",
              "    cursor: pointer;\n",
              "    display: none;\n",
              "    fill: #1967D2;\n",
              "    height: 32px;\n",
              "    padding: 0 0 0 0;\n",
              "    width: 32px;\n",
              "  }\n",
              "\n",
              "  .colab-df-quickchart:hover {\n",
              "    background-color: #E2EBFA;\n",
              "    box-shadow: 0px 1px 2px rgba(60, 64, 67, 0.3), 0px 1px 3px 1px rgba(60, 64, 67, 0.15);\n",
              "    fill: #174EA6;\n",
              "  }\n",
              "\n",
              "  [theme=dark] .colab-df-quickchart {\n",
              "    background-color: #3B4455;\n",
              "    fill: #D2E3FC;\n",
              "  }\n",
              "\n",
              "  [theme=dark] .colab-df-quickchart:hover {\n",
              "    background-color: #434B5C;\n",
              "    box-shadow: 0px 1px 3px 1px rgba(0, 0, 0, 0.15);\n",
              "    filter: drop-shadow(0px 1px 2px rgba(0, 0, 0, 0.3));\n",
              "    fill: #FFFFFF;\n",
              "  }\n",
              "</style>\n",
              "\n",
              "    <script>\n",
              "      async function quickchart(key) {\n",
              "        const containerElement = document.querySelector('#' + key);\n",
              "        const charts = await google.colab.kernel.invokeFunction(\n",
              "            'suggestCharts', [key], {});\n",
              "      }\n",
              "    </script>\n",
              "\n",
              "      <script>\n",
              "\n",
              "function displayQuickchartButton(domScope) {\n",
              "  let quickchartButtonEl =\n",
              "    domScope.querySelector('#df-95b73be6-59cf-44c2-8114-776e642373e5 button.colab-df-quickchart');\n",
              "  quickchartButtonEl.style.display =\n",
              "    google.colab.kernel.accessAllowed ? 'block' : 'none';\n",
              "}\n",
              "\n",
              "        displayQuickchartButton(document);\n",
              "      </script>\n",
              "      <style>\n",
              "    .colab-df-container {\n",
              "      display:flex;\n",
              "      flex-wrap:wrap;\n",
              "      gap: 12px;\n",
              "    }\n",
              "\n",
              "    .colab-df-convert {\n",
              "      background-color: #E8F0FE;\n",
              "      border: none;\n",
              "      border-radius: 50%;\n",
              "      cursor: pointer;\n",
              "      display: none;\n",
              "      fill: #1967D2;\n",
              "      height: 32px;\n",
              "      padding: 0 0 0 0;\n",
              "      width: 32px;\n",
              "    }\n",
              "\n",
              "    .colab-df-convert:hover {\n",
              "      background-color: #E2EBFA;\n",
              "      box-shadow: 0px 1px 2px rgba(60, 64, 67, 0.3), 0px 1px 3px 1px rgba(60, 64, 67, 0.15);\n",
              "      fill: #174EA6;\n",
              "    }\n",
              "\n",
              "    [theme=dark] .colab-df-convert {\n",
              "      background-color: #3B4455;\n",
              "      fill: #D2E3FC;\n",
              "    }\n",
              "\n",
              "    [theme=dark] .colab-df-convert:hover {\n",
              "      background-color: #434B5C;\n",
              "      box-shadow: 0px 1px 3px 1px rgba(0, 0, 0, 0.15);\n",
              "      filter: drop-shadow(0px 1px 2px rgba(0, 0, 0, 0.3));\n",
              "      fill: #FFFFFF;\n",
              "    }\n",
              "  </style>\n",
              "\n",
              "      <script>\n",
              "        const buttonEl =\n",
              "          document.querySelector('#df-f040738b-94ff-48e4-9bf9-d967b502eb83 button.colab-df-convert');\n",
              "        buttonEl.style.display =\n",
              "          google.colab.kernel.accessAllowed ? 'block' : 'none';\n",
              "\n",
              "        async function convertToInteractive(key) {\n",
              "          const element = document.querySelector('#df-f040738b-94ff-48e4-9bf9-d967b502eb83');\n",
              "          const dataTable =\n",
              "            await google.colab.kernel.invokeFunction('convertToInteractive',\n",
              "                                                     [key], {});\n",
              "          if (!dataTable) return;\n",
              "\n",
              "          const docLinkHtml = 'Like what you see? Visit the ' +\n",
              "            '<a target=\"_blank\" href=https://colab.research.google.com/notebooks/data_table.ipynb>data table notebook</a>'\n",
              "            + ' to learn more about interactive tables.';\n",
              "          element.innerHTML = '';\n",
              "          dataTable['output_type'] = 'display_data';\n",
              "          await google.colab.output.renderOutput(dataTable, element);\n",
              "          const docLink = document.createElement('div');\n",
              "          docLink.innerHTML = docLinkHtml;\n",
              "          element.appendChild(docLink);\n",
              "        }\n",
              "      </script>\n",
              "    </div>\n",
              "  </div>\n"
            ]
          },
          "metadata": {},
          "execution_count": 3
        }
      ]
    },
    {
      "cell_type": "markdown",
      "source": [
        "The \"Sentence\" column contains textual information related to financial topics, while the \"Sentiment\" column indicates the sentiment associated with each sentence, which can be either positive, negative, or neutral."
      ],
      "metadata": {
        "id": "kN17G57KpTjI"
      }
    },
    {
      "cell_type": "markdown",
      "source": [
        "### Data Exploration:\n",
        "Explore the dataset to gain insights and understand its characteristics. You can examine the distribution of sentiment labels, check for missing values, analyze the length of sentences, and identify any patterns or trends."
      ],
      "metadata": {
        "id": "2XAkhKGLr3tg"
      }
    },
    {
      "cell_type": "markdown",
      "source": [
        "Distribution of Sentiment Labels"
      ],
      "metadata": {
        "id": "BUoeGd09sC9m"
      }
    },
    {
      "cell_type": "code",
      "source": [
        "import matplotlib.pyplot as plt\n",
        "\n",
        "# Count the occurrences of each sentiment label\n",
        "sentiment_counts = df['Sentiment'].value_counts()\n",
        "\n",
        "# Visualize the distribution using a bar plot\n",
        "sentiment_counts.plot(kind='bar')\n",
        "plt.xlabel('Sentiment')\n",
        "plt.ylabel('Count')\n",
        "plt.title('Distribution of Sentiment Labels')\n",
        "plt.show()\n"
      ],
      "metadata": {
        "colab": {
          "base_uri": "https://localhost:8080/",
          "height": 519
        },
        "id": "OfYnX8tkpG_N",
        "outputId": "77b30bab-b11c-4198-f8c0-e14b8eb85056"
      },
      "execution_count": 4,
      "outputs": [
        {
          "output_type": "display_data",
          "data": {
            "text/plain": [
              "<Figure size 640x480 with 1 Axes>"
            ],
            "image/png": "[encoded data removed]"
          },
          "metadata": {}
        }
      ]
    },
    {
      "cell_type": "markdown",
      "source": [
        "Missing Values"
      ],
      "metadata": {
        "id": "PHx9aFNssT4Q"
      }
    },
    {
      "cell_type": "code",
      "source": [
        "# Check for missing values\n",
        "missing_values = df.isnull().sum()\n",
        "\n",
        "# Print the number of missing values for each column\n",
        "print(missing_values)\n"
      ],
      "metadata": {
        "colab": {
          "base_uri": "https://localhost:8080/"
        },
        "id": "loWTiorjsIyj",
        "outputId": "b9779402-7cd7-4db6-ead0-c10b0ff55647"
      },
      "execution_count": 5,
      "outputs": [
        {
          "output_type": "stream",
          "name": "stdout",
          "text": [
            "Sentence     0\n",
            "Sentiment    0\n",
            "dtype: int64\n"
          ]
        }
      ]
    },
    {
      "cell_type": "markdown",
      "source": [
        "Sentence Length Analysis"
      ],
      "metadata": {
        "id": "uODrigc1sdDH"
      }
    },
    {
      "cell_type": "code",
      "source": [
        "# Create a new column to store the length of each sentence\n",
        "df['Sentence Length'] = df['Sentence'].apply(len)\n",
        "\n",
        "# Calculate summary statistics for sentence lengths\n",
        "summary_stats = df['Sentence Length'].describe()\n",
        "\n",
        "# Print the summary statistics\n",
        "print(summary_stats)\n",
        "\n",
        "# Visualize the distribution using a histogram\n",
        "plt.hist(df['Sentence Length'], bins=20)\n",
        "plt.xlabel('Sentence Length')\n",
        "plt.ylabel('Frequency')\n",
        "plt.title('Distribution of Sentence Lengths')\n",
        "plt.show()\n"
      ],
      "metadata": {
        "colab": {
          "base_uri": "https://localhost:8080/",
          "height": 628
        },
        "id": "mW70ffI6sWm_",
        "outputId": "a2a82e90-1b36-4b91-c802-c9cc1efb9484"
      },
      "execution_count": 6,
      "outputs": [
        {
          "output_type": "stream",
          "name": "stdout",
          "text": [
            "count    5842.000000\n",
            "mean      117.022253\n",
            "std        56.420425\n",
            "min         9.000000\n",
            "25%        72.000000\n",
            "50%       107.000000\n",
            "75%       150.000000\n",
            "max       315.000000\n",
            "Name: Sentence Length, dtype: float64\n"
          ]
        },
        {
          "output_type": "display_data",
          "data": {
            "text/plain": [
              "<Figure size 640x480 with 1 Axes>"
            ],
            "image/png": "[encoded data removed]"
          },
          "metadata": {}
        }
      ]
    },
    {
      "cell_type": "markdown",
      "source": [
        "- Count: There are 5842 sentences in the dataset.\n",
        "- Mean: The average sentence length is approximately 117 characters.\n",
        "- Standard Deviation (std): The standard deviation is approximately 56.42, indicating that the sentence lengths vary around the mean.\n",
        "- Minimum (min): The shortest sentence in the dataset has 9 characters.\n",
        "- 25th Percentile (25%): 25% of the sentences have a length of 72 characters or less.\n",
        "- 50th Percentile (50% or median): 50% of the sentences have a length of 107 characters or less.\n",
        "- 75th Percentile (75%): 75% of the sentences have a length of 150 characters or less.\n",
        "- Maximum (max): The longest sentence in the dataset has 315 characters.\n",
        "\n",
        "The frequency graph shows that the peak frequency occurs at around 60 characters in sentence length. This means that approximately 770 sentences in the dataset have a length of around 60 characters.\n",
        "\n",
        "As the sentence length increases beyond 60 characters, the frequency gradually decreases. This indicates that longer sentences become less frequent in the dataset. Near the maximum length of 300 characters, the frequency of sentences drops close to zero, indicating that very long sentences are rare in the dataset.\n",
        "\n",
        "The left-skewed distribution and the peak at around 60 characters suggest that most sentences in the dataset are relatively short. This finding can be valuable for understanding the characteristics of the dataset and informing subsequent analysis or modeling tasks."
      ],
      "metadata": {
        "id": "FzyRwg_quBm9"
      }
    },
    {
      "cell_type": "markdown",
      "source": [
        "### Sentiment Analysis:\n",
        "Perform sentiment analysis on the financial sentences to classify them into positive, negative, or neutral sentiment. You can use various techniques such as rule-based approaches, machine learning algorithms, or pre-trained language models to train a sentiment analysis model on the data.\n",
        "\n",
        "\n",
        "Perform sentiment analysis on the financial sentences using a rule-based approach in Python"
      ],
      "metadata": {
        "id": "cmOLDvRzuxCt"
      }
    },
    {
      "cell_type": "code",
      "source": [
        "# Positive keywords\n",
        "positive_keywords = [\n",
        "    'good', 'excellent', 'profit', 'increase', 'success', 'opportunity',\n",
        "    'advantage', 'benefit', 'growth', 'impressive', 'promising', 'prosper',\n",
        "    'positive', 'upward', 'bullish', 'strong', 'outperform', 'satisfactory'\n",
        "]\n",
        "\n",
        "# Negative keywords\n",
        "negative_keywords = [\n",
        "    'bad', 'poor', 'loss', 'decrease', 'failure', 'risk', 'downside',\n",
        "    'weak', 'disappoint', 'negative', 'underperform', 'decline', 'bearish',\n",
        "    'struggle', 'challenging', 'concern', 'downtrend', 'unfavorable'\n",
        "]\n"
      ],
      "metadata": {
        "id": "YDHzvO2NuzQJ"
      },
      "execution_count": 8,
      "outputs": []
    },
    {
      "cell_type": "code",
      "source": [
        "# Function to classify sentiment based on keywords\n",
        "def classify_sentiment(sentence):\n",
        "    words = sentence.lower().split()\n",
        "    positive_count = sum(word in positive_keywords for word in words)\n",
        "    negative_count = sum(word in negative_keywords for word in words)\n",
        "\n",
        "    if positive_count > negative_count:\n",
        "        return 'positive'\n",
        "    elif negative_count > positive_count:\n",
        "        return 'negative'\n",
        "    else:\n",
        "        return 'neutral'\n",
        "\n",
        "# Apply sentiment classification to the sentences\n",
        "df['Sentiment'] = df['Sentence'].apply(classify_sentiment)"
      ],
      "metadata": {
        "id": "sz6CKuktwBHz"
      },
      "execution_count": 10,
      "outputs": []
    },
    {
      "cell_type": "code",
      "source": [
        "df.head()"
      ],
      "metadata": {
        "colab": {
          "base_uri": "https://localhost:8080/",
          "height": 278
        },
        "id": "aqqIuo79wGLD",
        "outputId": "c323381a-05c7-4591-8bee-9fd19dc482f2"
      },
      "execution_count": 11,
      "outputs": [
        {
          "output_type": "execute_result",
          "data": {
            "text/plain": [
              "                                            Sentence Sentiment  \\\n",
              "0  The GeoSolutions technology will leverage Bene...   neutral   \n",
              "1  $ESI on lows, down $1.50 to $2.50 BK a real po...   neutral   \n",
              "2  For the last quarter of 2010 , Componenta 's n...   neutral   \n",
              "3  According to the Finnish-Russian Chamber of Co...   neutral   \n",
              "4  The Swedish buyout firm has sold its remaining...   neutral   \n",
              "\n",
              "   Sentence Length  \n",
              "0              218  \n",
              "1               55  \n",
              "2              193  \n",
              "3              128  \n",
              "4              135  "
            ],
            "text/html": [
              "\n",
              "\n",
              "  <div id=\"df-efd228e2-50eb-41c3-96ea-7d8e2f4fdc85\">\n",
              "    <div class=\"colab-df-container\">\n",
              "      <div>\n",
              "<style scoped>\n",
              "    .dataframe tbody tr th:only-of-type {\n",
              "        vertical-align: middle;\n",
              "    }\n",
              "\n",
              "    .dataframe tbody tr th {\n",
              "        vertical-align: top;\n",
              "    }\n",
              "\n",
              "    .dataframe thead th {\n",
              "        text-align: right;\n",
              "    }\n",
              "</style>\n",
              "<table border=\"1\" class=\"dataframe\">\n",
              "  <thead>\n",
              "    <tr style=\"text-align: right;\">\n",
              "      <th></th>\n",
              "      <th>Sentence</th>\n",
              "      <th>Sentiment</th>\n",
              "      <th>Sentence Length</th>\n",
              "    </tr>\n",
              "  </thead>\n",
              "  <tbody>\n",
              "    <tr>\n",
              "      <th>0</th>\n",
              "      <td>The GeoSolutions technology will leverage Bene...</td>\n",
              "      <td>neutral</td>\n",
              "      <td>218</td>\n",
              "    </tr>\n",
              "    <tr>\n",
              "      <th>1</th>\n",
              "      <td>$ESI on lows, down $1.50 to $2.50 BK a real po...</td>\n",
              "      <td>neutral</td>\n",
              "      <td>55</td>\n",
              "    </tr>\n",
              "    <tr>\n",
              "      <th>2</th>\n",
              "      <td>For the last quarter of 2010 , Componenta 's n...</td>\n",
              "      <td>neutral</td>\n",
              "      <td>193</td>\n",
              "    </tr>\n",
              "    <tr>\n",
              "      <th>3</th>\n",
              "      <td>According to the Finnish-Russian Chamber of Co...</td>\n",
              "      <td>neutral</td>\n",
              "      <td>128</td>\n",
              "    </tr>\n",
              "    <tr>\n",
              "      <th>4</th>\n",
              "      <td>The Swedish buyout firm has sold its remaining...</td>\n",
              "      <td>neutral</td>\n",
              "      <td>135</td>\n",
              "    </tr>\n",
              "  </tbody>\n",
              "</table>\n",
              "</div>\n",
              "      <button class=\"colab-df-convert\" onclick=\"convertToInteractive('df-efd228e2-50eb-41c3-96ea-7d8e2f4fdc85')\"\n",
              "              title=\"Convert this dataframe to an interactive table.\"\n",
              "              style=\"display:none;\">\n",
              "\n",
              "  <svg xmlns=\"http://www.w3.org/2000/svg\" height=\"24px\"viewBox=\"0 0 24 24\"\n",
              "       width=\"24px\">\n",
              "    <path d=\"M0 0h24v24H0V0z\" fill=\"none\"/>\n",
              "    <path d=\"M18.56 5.44l.94 2.06.94-2.06 2.06-.94-2.06-.94-.94-2.06-.94 2.06-2.06.94zm-11 1L8.5 8.5l.94-2.06 2.06-.94-2.06-.94L8.5 2.5l-.94 2.06-2.06.94zm10 10l.94 2.06.94-2.06 2.06-.94-2.06-.94-.94-2.06-.94 2.06-2.06.94z\"/><path d=\"M17.41 7.96l-1.37-1.37c-.4-.4-.92-.59-1.43-.59-.52 0-1.04.2-1.43.59L10.3 9.45l-7.72 7.72c-.78.78-.78 2.05 0 2.83L4 21.41c.39.39.9.59 1.41.59.51 0 1.02-.2 1.41-.59l7.78-7.78 2.81-2.81c.8-.78.8-2.07 0-2.86zM5.41 20L4 18.59l7.72-7.72 1.47 1.35L5.41 20z\"/>\n",
              "  </svg>\n",
              "      </button>\n",
              "\n",
              "\n",
              "\n",
              "    <div id=\"df-f4a6f4a0-c190-4971-aa49-19569f225965\">\n",
              "      <button class=\"colab-df-quickchart\" onclick=\"quickchart('df-f4a6f4a0-c190-4971-aa49-19569f225965')\"\n",
              "              title=\"Suggest charts.\"\n",
              "              style=\"display:none;\">\n",
              "\n",
              "<svg xmlns=\"http://www.w3.org/2000/svg\" height=\"24px\"viewBox=\"0 0 24 24\"\n",
              "     width=\"24px\">\n",
              "    <g>\n",
              "        <path d=\"M19 3H5c-1.1 0-2 .9-2 2v14c0 1.1.9 2 2 2h14c1.1 0 2-.9 2-2V5c0-1.1-.9-2-2-2zM9 17H7v-7h2v7zm4 0h-2V7h2v10zm4 0h-2v-4h2v4z\"/>\n",
              "    </g>\n",
              "</svg>\n",
              "      </button>\n",
              "    </div>\n",
              "\n",
              "<style>\n",
              "  .colab-df-quickchart {\n",
              "    background-color: #E8F0FE;\n",
              "    border: none;\n",
              "    border-radius: 50%;\n",
              "    cursor: pointer;\n",
              "    display: none;\n",
              "    fill: #1967D2;\n",
              "    height: 32px;\n",
              "    padding: 0 0 0 0;\n",
              "    width: 32px;\n",
              "  }\n",
              "\n",
              "  .colab-df-quickchart:hover {\n",
              "    background-color: #E2EBFA;\n",
              "    box-shadow: 0px 1px 2px rgba(60, 64, 67, 0.3), 0px 1px 3px 1px rgba(60, 64, 67, 0.15);\n",
              "    fill: #174EA6;\n",
              "  }\n",
              "\n",
              "  [theme=dark] .colab-df-quickchart {\n",
              "    background-color: #3B4455;\n",
              "    fill: #D2E3FC;\n",
              "  }\n",
              "\n",
              "  [theme=dark] .colab-df-quickchart:hover {\n",
              "    background-color: #434B5C;\n",
              "    box-shadow: 0px 1px 3px 1px rgba(0, 0, 0, 0.15);\n",
              "    filter: drop-shadow(0px 1px 2px rgba(0, 0, 0, 0.3));\n",
              "    fill: #FFFFFF;\n",
              "  }\n",
              "</style>\n",
              "\n",
              "    <script>\n",
              "      async function quickchart(key) {\n",
              "        const containerElement = document.querySelector('#' + key);\n",
              "        const charts = await google.colab.kernel.invokeFunction(\n",
              "            'suggestCharts', [key], {});\n",
              "      }\n",
              "    </script>\n",
              "\n",
              "      <script>\n",
              "\n",
              "function displayQuickchartButton(domScope) {\n",
              "  let quickchartButtonEl =\n",
              "    domScope.querySelector('#df-f4a6f4a0-c190-4971-aa49-19569f225965 button.colab-df-quickchart');\n",
              "  quickchartButtonEl.style.display =\n",
              "    google.colab.kernel.accessAllowed ? 'block' : 'none';\n",
              "}\n",
              "\n",
              "        displayQuickchartButton(document);\n",
              "      </script>\n",
              "      <style>\n",
              "    .colab-df-container {\n",
              "      display:flex;\n",
              "      flex-wrap:wrap;\n",
              "      gap: 12px;\n",
              "    }\n",
              "\n",
              "    .colab-df-convert {\n",
              "      background-color: #E8F0FE;\n",
              "      border: none;\n",
              "      border-radius: 50%;\n",
              "      cursor: pointer;\n",
              "      display: none;\n",
              "      fill: #1967D2;\n",
              "      height: 32px;\n",
              "      padding: 0 0 0 0;\n",
              "      width: 32px;\n",
              "    }\n",
              "\n",
              "    .colab-df-convert:hover {\n",
              "      background-color: #E2EBFA;\n",
              "      box-shadow: 0px 1px 2px rgba(60, 64, 67, 0.3), 0px 1px 3px 1px rgba(60, 64, 67, 0.15);\n",
              "      fill: #174EA6;\n",
              "    }\n",
              "\n",
              "    [theme=dark] .colab-df-convert {\n",
              "      background-color: #3B4455;\n",
              "      fill: #D2E3FC;\n",
              "    }\n",
              "\n",
              "    [theme=dark] .colab-df-convert:hover {\n",
              "      background-color: #434B5C;\n",
              "      box-shadow: 0px 1px 3px 1px rgba(0, 0, 0, 0.15);\n",
              "      filter: drop-shadow(0px 1px 2px rgba(0, 0, 0, 0.3));\n",
              "      fill: #FFFFFF;\n",
              "    }\n",
              "  </style>\n",
              "\n",
              "      <script>\n",
              "        const buttonEl =\n",
              "          document.querySelector('#df-efd228e2-50eb-41c3-96ea-7d8e2f4fdc85 button.colab-df-convert');\n",
              "        buttonEl.style.display =\n",
              "          google.colab.kernel.accessAllowed ? 'block' : 'none';\n",
              "\n",
              "        async function convertToInteractive(key) {\n",
              "          const element = document.querySelector('#df-efd228e2-50eb-41c3-96ea-7d8e2f4fdc85');\n",
              "          const dataTable =\n",
              "            await google.colab.kernel.invokeFunction('convertToInteractive',\n",
              "                                                     [key], {});\n",
              "          if (!dataTable) return;\n",
              "\n",
              "          const docLinkHtml = 'Like what you see? Visit the ' +\n",
              "            '<a target=\"_blank\" href=https://colab.research.google.com/notebooks/data_table.ipynb>data table notebook</a>'\n",
              "            + ' to learn more about interactive tables.';\n",
              "          element.innerHTML = '';\n",
              "          dataTable['output_type'] = 'display_data';\n",
              "          await google.colab.output.renderOutput(dataTable, element);\n",
              "          const docLink = document.createElement('div');\n",
              "          docLink.innerHTML = docLinkHtml;\n",
              "          element.appendChild(docLink);\n",
              "        }\n",
              "      </script>\n",
              "    </div>\n",
              "  </div>\n"
            ]
          },
          "metadata": {},
          "execution_count": 11
        }
      ]
    },
    {
      "cell_type": "markdown",
      "source": [
        "### Feature Engineering:\n",
        " Extract relevant features from the financial sentences that can be used for sentiment analysis or other tasks. This can include techniques such as word embeddings, TF-IDF (Term Frequency-Inverse Document Frequency), or other text representation methods.\n",
        "\n",
        " Using TF-IDF to extract features from the financial sentences"
      ],
      "metadata": {
        "id": "1vWiZXSnxFsl"
      }
    },
    {
      "cell_type": "code",
      "source": [
        "from sklearn.feature_extraction.text import TfidfVectorizer\n",
        "\n",
        "# Create TF-IDF vectorizer\n",
        "tfidf_vectorizer = TfidfVectorizer()\n",
        "\n",
        "# Apply TF-IDF vectorization to the sentences\n",
        "X = tfidf_vectorizer.fit_transform(df['Sentence'])\n",
        "\n",
        "# Get the feature names from the vectorizer\n",
        "feature_names = tfidf_vectorizer.get_feature_names_out()\n",
        "\n",
        "# Convert the TF-IDF matrix to a DataFrame for further analysis\n",
        "tfidf_df = pd.DataFrame(X.toarray(), columns=feature_names)\n",
        "\n",
        "# Concatenate the TF-IDF features with the original DataFrame\n",
        "df_with_features = pd.concat([df, tfidf_df], axis=1)\n",
        "\n"
      ],
      "metadata": {
        "id": "6JpdSpRnwjBr"
      },
      "execution_count": 17,
      "outputs": []
    },
    {
      "cell_type": "markdown",
      "source": [
        "Let's print some sample features and their corresponding TF-IDF values from the dataset."
      ],
      "metadata": {
        "id": "Q1ZhLi2yys5u"
      }
    },
    {
      "cell_type": "code",
      "source": [
        "import numpy as np\n",
        "\n",
        "# Get the feature names from the vectorizer\n",
        "feature_names = tfidf_vectorizer.get_feature_names_out()\n",
        "\n",
        "# Select a random sentence index\n",
        "random_sentence_index = np.random.randint(0, len(df))\n",
        "\n",
        "# Get the TF-IDF values for the random sentence\n",
        "random_sentence_tfidf = tfidf_df.iloc[random_sentence_index]\n",
        "\n",
        "# Print the top 10 features and their TF-IDF values for the random sentence\n",
        "print(\"Random Sentence:\")\n",
        "print(df['Sentence'].iloc[random_sentence_index])\n",
        "print(\"\\nTop 10 Features and TF-IDF Values:\")\n",
        "top_10_features = random_sentence_tfidf.sort_values(ascending=False)[:10]\n",
        "for feature, tfidf in zip(top_10_features.index, top_10_features.values):\n",
        "    print(f\"{feature}: {tfidf}\")\n"
      ],
      "metadata": {
        "colab": {
          "base_uri": "https://localhost:8080/"
        },
        "id": "8M40LaSrxzxv",
        "outputId": "4f3d1484-ff1d-4ce1-ca7f-7a643c80b515"
      },
      "execution_count": 19,
      "outputs": [
        {
          "output_type": "stream",
          "name": "stdout",
          "text": [
            "Random Sentence:\n",
            "At the close , the OMX Helsinki 25 was 0.01 pct lower at 3,067.64 points and the OMX Helsinki was down 0.05 pct at 10,321.46 points on over 1.343 bln eur of turnover .\n",
            "\n",
            "Top 10 Features and TF-IDF Values:\n",
            "points: 0.35886229880344017\n",
            "pct: 0.29325221792461725\n",
            "at: 0.2886389364436075\n",
            "omx: 0.28646669569439437\n",
            "helsinki: 0.25238775927744656\n",
            "067: 0.2353362755245297\n",
            "343: 0.2353362755245297\n",
            "321: 0.2120809787326196\n",
            "was: 0.20563265371210737\n",
            "05: 0.19967560313852853\n"
          ]
        }
      ]
    },
    {
      "cell_type": "markdown",
      "source": [
        "These values represent the importance of each feature (word) in the sentence based on their TF-IDF scores. Higher TF-IDF values indicate that a word is more relevant to the sentence.\n",
        "\n",
        "Among the top 10 features, the highest TF-IDF value is associated with the feature \"points\" with a value of 0.35886229880344017."
      ],
      "metadata": {
        "id": "xZrK9iZjzKS-"
      }
    },
    {
      "cell_type": "markdown",
      "source": [
        "### Model Training and Evaluation:\n",
        "Build a sentiment analysis model using the labeled data. Split the data into training and testing sets, select an appropriate machine learning algorithm or deep learning architecture, train the model on the training set, and evaluate its performance on the testing set using appropriate metrics such as accuracy, precision, recall, and F1-score."
      ],
      "metadata": {
        "id": "cBWFOsv5zaPW"
      }
    },
    {
      "cell_type": "code",
      "source": [
        "from sklearn.model_selection import train_test_split\n",
        "from sklearn.feature_extraction.text import TfidfVectorizer\n",
        "from sklearn.svm import LinearSVC\n",
        "from sklearn.metrics import accuracy_score, precision_score, recall_score, f1_score\n",
        "\n",
        "# Split the data into training and testing sets\n",
        "X_train, X_test, y_train, y_test = train_test_split(df['Sentence'], df['Sentiment'], test_size=0.2, random_state=42)\n",
        "\n",
        "# Create a TF-IDF vectorizer\n",
        "tfidf_vectorizer = TfidfVectorizer()\n",
        "\n",
        "# Transform the training data into TF-IDF features\n",
        "X_train_tfidf = tfidf_vectorizer.fit_transform(X_train)\n",
        "\n",
        "# Transform the testing data into TF-IDF features\n",
        "X_test_tfidf = tfidf_vectorizer.transform(X_test)\n",
        "\n",
        "# Create a LinearSVC classifier\n",
        "classifier = LinearSVC()\n",
        "\n",
        "# Train the classifier on the training data\n",
        "classifier.fit(X_train_tfidf, y_train)\n",
        "\n",
        "# Make predictions on the testing data\n",
        "y_pred = classifier.predict(X_test_tfidf)\n",
        "\n",
        "# Evaluate the model performance\n",
        "accuracy = accuracy_score(y_test, y_pred)\n",
        "precision = precision_score(y_test, y_pred, average='weighted')\n",
        "recall = recall_score(y_test, y_pred, average='weighted')\n",
        "f1 = f1_score(y_test, y_pred, average='weighted')\n",
        "\n",
        "# Print the evaluation metrics\n",
        "print(f\"Accuracy: {accuracy}\")\n",
        "print(f\"Precision: {precision}\")\n",
        "print(f\"Recall: {recall}\")\n",
        "print(f\"F1-score: {f1}\")\n"
      ],
      "metadata": {
        "colab": {
          "base_uri": "https://localhost:8080/"
        },
        "id": "jOBWTC0FyvXH",
        "outputId": "ae81c519-5343-4fac-bf77-60d9bcbd083d"
      },
      "execution_count": 20,
      "outputs": [
        {
          "output_type": "stream",
          "name": "stdout",
          "text": [
            "Accuracy: 0.9692044482463644\n",
            "Precision: 0.9687863317186369\n",
            "Recall: 0.9692044482463644\n",
            "F1-score: 0.9674936818365961\n"
          ]
        }
      ]
    },
    {
      "cell_type": "markdown",
      "source": [
        "These metrics indicate that the model performed well in classifying the sentiment of financial sentences. The high accuracy suggests that the model made correct predictions for the majority of the test data. Precision indicates the model's ability to correctly classify positive, negative, and neutral sentiments, while recall represents the model's ability to correctly identify all instances of each sentiment class. The F1-score combines both precision and recall into a single metric.\n",
        "\n",
        "The evaluation metrics indicate that the sentiment analysis model built using the provided data performed with high accuracy and good precision, recall, and F1-score."
      ],
      "metadata": {
        "id": "aRaLcWPpzqTO"
      }
    },
    {
      "cell_type": "markdown",
      "source": [
        "Visualizations: Create visualizations to better understand the sentiment distribution or visualize the results of the sentiment analysis. This can include bar plots, pie charts, word clouds, or any other relevant visual representation of the data."
      ],
      "metadata": {
        "id": "_x03AYa41QzP"
      }
    },
    {
      "cell_type": "code",
      "source": [
        "import matplotlib.pyplot as plt\n",
        "\n",
        "# Count the number of sentences for each sentiment label\n",
        "sentiment_counts = df['Sentiment'].value_counts()\n",
        "\n",
        "# Plot the sentiment distribution\n",
        "plt.figure(figsize=(8, 6))\n",
        "plt.bar(sentiment_counts.index, sentiment_counts.values)\n",
        "plt.xlabel('Sentiment')\n",
        "plt.ylabel('Count')\n",
        "plt.title('Sentiment Distribution')\n",
        "plt.show()\n"
      ],
      "metadata": {
        "colab": {
          "base_uri": "https://localhost:8080/",
          "height": 564
        },
        "id": "UgVmGQgnzgkU",
        "outputId": "0322eb71-1dbb-447b-8c36-f02acde42d7a"
      },
      "execution_count": 24,
      "outputs": [
        {
          "output_type": "display_data",
          "data": {
            "text/plain": [
              "<Figure size 800x600 with 1 Axes>"
            ],
            "image/png": "[encoded data removed]"
          },
          "metadata": {}
        }
      ]
    },
    {
      "cell_type": "markdown",
      "source": [
        "The majority of sentences in the dataset are classified as \"neutral\" sentiment, with a count of approximately 4900. This suggests that a significant portion of the financial sentences in the dataset do not convey a strong positive or negative sentiment.\n",
        "\n",
        "On the other hand, the count of sentences with \"positive\" sentiment is relatively low, around 600. This indicates that there are fewer financial sentences in the dataset that express a positive sentiment.\n",
        "\n",
        "Similarly, the count of sentences with \"negative\" sentiment is even lower, around 200. This suggests that negative sentiment is less prevalent in the financial sentences compared to neutral sentiment."
      ],
      "metadata": {
        "id": "gmNl3ZlK1-Bp"
      }
    },
    {
      "cell_type": "code",
      "source": [],
      "metadata": {
        "id": "2y-f3RSh1U9B"
      },
      "execution_count": null,
      "outputs": []
    }
  ]
}